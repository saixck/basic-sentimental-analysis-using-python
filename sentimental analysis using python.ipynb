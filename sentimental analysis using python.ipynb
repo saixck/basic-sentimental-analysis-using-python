{
 "cells": [
  {
   "cell_type": "code",
   "execution_count": 1,
   "id": "5dc278f8",
   "metadata": {},
   "outputs": [],
   "source": [
    "import pandas as pd\n",
    "import numpy as np\n",
    "import bz2"
   ]
  },
  {
   "cell_type": "code",
   "execution_count": 10,
   "id": "aa3ff757",
   "metadata": {},
   "outputs": [],
   "source": [
    "def get_labels_and_texts(file):\n",
    "    labels = []\n",
    "    texts = []\n",
    "    for line in bz2.BZ2File(file):\n",
    "        x = line.decode(\"utf-8\")\n",
    "        labels.append(int(x[9])-1)\n",
    "        texts.append(x[10:].strip())\n",
    "    return np.array(labels), texts\n",
    "train_labels, train_texts = get_labels_and_texts(r\"D:\\hp\\Documents\\JAIN SEM 6\\SMA\\lab\\archive (3)\\train.ft.txt.bz2\")\n",
    "test_labels, test_texts = get_labels_and_texts(r\"D:\\hp\\Documents\\JAIN SEM 6\\SMA\\lab\\archive (3)\\test.ft.txt.bz2\")"
   ]
  },
  {
   "cell_type": "code",
   "execution_count": 11,
   "id": "f43e5f0f",
   "metadata": {},
   "outputs": [
    {
     "data": {
      "text/plain": [
       "1"
      ]
     },
     "execution_count": 11,
     "metadata": {},
     "output_type": "execute_result"
    }
   ],
   "source": [
    "train_labels[0]"
   ]
  },
  {
   "cell_type": "code",
   "execution_count": 12,
   "id": "b53dc4a6",
   "metadata": {},
   "outputs": [
    {
     "data": {
      "text/plain": [
       "'Stuning even for the non-gamer: This sound track was beautiful! It paints the senery in your mind so well I would recomend it even to people who hate vid. game music! I have played the game Chrono Cross but out of all of the games I have ever played it has the best music! It backs away from crude keyboarding and takes a fresher step with grate guitars and soulful orchestras. It would impress anyone who cares to listen! ^_^'"
      ]
     },
     "execution_count": 12,
     "metadata": {},
     "output_type": "execute_result"
    }
   ],
   "source": [
    "train_texts[0]"
   ]
  },
  {
   "cell_type": "code",
   "execution_count": 13,
   "id": "c000705c",
   "metadata": {},
   "outputs": [],
   "source": [
    "train_labels = train_labels[0:500]"
   ]
  },
  {
   "cell_type": "code",
   "execution_count": 14,
   "id": "dc3edecc",
   "metadata": {},
   "outputs": [],
   "source": [
    "train_texts = train_texts[0:500]"
   ]
  },
  {
   "cell_type": "code",
   "execution_count": 15,
   "id": "86c7ab70",
   "metadata": {},
   "outputs": [],
   "source": [
    "##text pre-prossesing \n",
    "import re\n",
    "NON_ALPHANUM = re.compile(r'[\\s\\W]')\n",
    "NON_ASCII = re.compile(r'[^a-z0-1\\s]')\n",
    "def normalize_texts(texts):\n",
    "    normalized_texts = []\n",
    "    for text in texts:\n",
    "        lower = text.lower()\n",
    "        no_punctuation = NON_ALPHANUM.sub(r' ',lower)\n",
    "        no_non_ascii = NON_ASCII.sub(r'', no_punctuation)\n",
    "        normalized_texts.append(no_non_ascii)\n",
    "    return normalized_texts\n",
    "\n",
    "train_texts = normalize_texts(train_texts)\n",
    "test_texts = normalize_texts(test_texts)"
   ]
  },
  {
   "cell_type": "code",
   "execution_count": 16,
   "id": "023d9e8d",
   "metadata": {},
   "outputs": [
    {
     "data": {
      "text/plain": [
       "'stuning even for the non gamer  this sound track was beautiful  it paints the senery in your mind so well i would recomend it even to people who hate vid  game music  i have played the game chrono cross but out of all of the games i have ever played it has the best music  it backs away from crude keyboarding and takes a fresher step with grate guitars and soulful orchestras  it would impress anyone who cares to listen    '"
      ]
     },
     "execution_count": 16,
     "metadata": {},
     "output_type": "execute_result"
    }
   ],
   "source": [
    "train_texts[0]"
   ]
  },
  {
   "cell_type": "code",
   "execution_count": 17,
   "id": "4cf0e221",
   "metadata": {},
   "outputs": [],
   "source": [
    "#vectorization and modelling "
   ]
  },
  {
   "cell_type": "code",
   "execution_count": 18,
   "id": "1f91a635",
   "metadata": {},
   "outputs": [],
   "source": [
    "from sklearn.feature_extraction.text import CountVectorizer\n",
    "\n",
    "cv = CountVectorizer(binary=True)\n",
    "cv.fit(train_texts)\n",
    "X = cv.transform(train_texts)\n",
    "X_test = cv.transform(test_texts)"
   ]
  },
  {
   "cell_type": "code",
   "execution_count": 19,
   "id": "932c492f",
   "metadata": {},
   "outputs": [
    {
     "data": {
      "text/plain": [
       "<400000x5778 sparse matrix of type '<class 'numpy.int64'>'\n",
       "\twith 18647020 stored elements in Compressed Sparse Row format>"
      ]
     },
     "execution_count": 19,
     "metadata": {},
     "output_type": "execute_result"
    }
   ],
   "source": [
    "X_test"
   ]
  },
  {
   "cell_type": "code",
   "execution_count": 23,
   "id": "365a3e62",
   "metadata": {},
   "outputs": [
    {
     "name": "stdout",
     "output_type": "stream",
     "text": [
      "Accuracy for C=0.01: 0.816\n",
      "Accuracy for C=0.05: 0.8\n",
      "Accuracy for C=0.25: 0.824\n",
      "Accuracy for C=0.5: 0.832\n",
      "Accuracy for C=1: 0.848\n"
     ]
    }
   ],
   "source": [
    "from sklearn.linear_model import LogisticRegression\n",
    "from sklearn.metrics import accuracy_score\n",
    "from sklearn.model_selection import train_test_split\n",
    "\n",
    "X_train, X_val, y_train, y_val = train_test_split(\n",
    "     X, train_labels, train_size = 0.75\n",
    ")\n",
    "\n",
    "for c in [0.01, 0.05, 0.25, 0.5, 1]:\n",
    "    lr = LogisticRegression(C=c)\n",
    "    lr.fit(X_train, y_train)\n",
    "    print(\"Accuracy for C=%s: %s\"\n",
    "         %(c, accuracy_score(y_val, lr.predict(X_val))))"
   ]
  },
  {
   "cell_type": "code",
   "execution_count": 24,
   "id": "0f0f19a9",
   "metadata": {},
   "outputs": [
    {
     "data": {
      "text/plain": [
       "array([0])"
      ]
     },
     "execution_count": 24,
     "metadata": {},
     "output_type": "execute_result"
    }
   ],
   "source": [
    "lr.predict(X_test[41])"
   ]
  },
  {
   "cell_type": "code",
   "execution_count": 25,
   "id": "6877fed5",
   "metadata": {},
   "outputs": [
    {
     "data": {
      "text/plain": [
       "0"
      ]
     },
     "execution_count": 25,
     "metadata": {},
     "output_type": "execute_result"
    }
   ],
   "source": [
    "test_labels[41]"
   ]
  },
  {
   "cell_type": "code",
   "execution_count": 27,
   "id": "35254884",
   "metadata": {},
   "outputs": [
    {
     "data": {
      "text/plain": [
       "'great book  unacceptable condition  i was looking forward to receiving this book  as i was going to new orleans to antoine s restaurant  i read the book at least thirty years ago and wanted my own copy  this book came without a dust jacket and was so musty that i could not read it without my eyes watering  i sent it back  at my own expense  and to date  i have not had a refund '"
      ]
     },
     "execution_count": 27,
     "metadata": {},
     "output_type": "execute_result"
    }
   ],
   "source": [
    "test_texts[41]"
   ]
  },
  {
   "cell_type": "code",
   "execution_count": null,
   "id": "983e29dd",
   "metadata": {},
   "outputs": [],
   "source": []
  }
 ],
 "metadata": {
  "kernelspec": {
   "display_name": "Python 3 (ipykernel)",
   "language": "python",
   "name": "python3"
  },
  "language_info": {
   "codemirror_mode": {
    "name": "ipython",
    "version": 3
   },
   "file_extension": ".py",
   "mimetype": "text/x-python",
   "name": "python",
   "nbconvert_exporter": "python",
   "pygments_lexer": "ipython3",
   "version": "3.9.13"
  }
 },
 "nbformat": 4,
 "nbformat_minor": 5
}
